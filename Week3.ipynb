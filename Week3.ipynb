{
 "cells": [
  {
   "cell_type": "markdown",
   "metadata": {},
   "source": [
    "# Week 3\n",
    "\n",
    "http://regulomics.mimuw.edu.pl/wp/2019/03/wbo-3-uliniowienie-par-sekwencji-2/\n",
    "\n",
    "### Datasets "
   ]
  },
  {
   "cell_type": "code",
   "execution_count": 3,
   "metadata": {},
   "outputs": [],
   "source": [
    "import gzip\n",
    "import requests\n",
    "import shutil"
   ]
  },
  {
   "cell_type": "code",
   "execution_count": 4,
   "metadata": {},
   "outputs": [],
   "source": [
    "def download_gz(url, target_file):\n",
    "    r = requests.get(url, stream=True)\n",
    "    if r.status_code == 200:\n",
    "        with open(target_file, 'wb') as f:\n",
    "            r.raw.decode_content = True  # just in case transport encoding was applied\n",
    "            gzip_file = gzip.GzipFile(fileobj=r.raw)\n",
    "            shutil.copyfileobj(gzip_file, f)"
   ]
  },
  {
   "cell_type": "code",
   "execution_count": 5,
   "metadata": {},
   "outputs": [],
   "source": [
    "download_gz('http://regulomics.mimuw.edu.pl/wp/wp-content/uploads/2018/03/histones.fa_.gz', 'data/histones.fa')\n",
    "download_gz('http://regulomics.mimuw.edu.pl/wp/wp-content/uploads/2018/03/bzips.fa_.gz', 'data/bzips.fa')"
   ]
  },
  {
   "cell_type": "markdown",
   "metadata": {},
   "source": [
    "### Assignments\n",
    "\n",
    "1 and 2: Reading the data, basic pairwise2 operations and visualization:"
   ]
  },
  {
   "cell_type": "code",
   "execution_count": 6,
   "metadata": {},
   "outputs": [],
   "source": [
    "from Bio import SeqIO, Seq, pairwise2\n",
    "import numpy as np\n",
    "from tqdm import tqdm"
   ]
  },
  {
   "cell_type": "code",
   "execution_count": 7,
   "metadata": {},
   "outputs": [
    {
     "data": {
      "text/plain": [
       "SeqRecord(seq=Seq('ATGTCCGGTGGTAAAGGTGGTAAAGCTGGTTCAGCTGCTAAAGCTTCTCAATCT...TAA', SingleLetterAlphabet()), id='YDR225W', name='YDR225W', description='YDR225W cdna chromosome:R64-1-1:IV:915530:915928:1 gene:YDR225W gene_biotype:protein_coding transcript_biotype:protein_coding gene_symbol:HTA1 description:Histone H2A; core histone protein required for chromatin assembly and chromosome function; one of two nearly identical subtypes (see also HTA2); DNA damage-dependent phosphorylation by Mec1p facilitates DNA repair; acetylated by Nat4p; N-terminally propionylated in vivo [Source:SGD;Acc:S000002633]', dbxrefs=[])"
      ]
     },
     "execution_count": 7,
     "metadata": {},
     "output_type": "execute_result"
    }
   ],
   "source": [
    "seqs = list(SeqIO.parse('data/histones.fa', format='fasta'))\n",
    "seqs[0]"
   ]
  },
  {
   "cell_type": "code",
   "execution_count": 8,
   "metadata": {},
   "outputs": [
    {
     "data": {
      "text/plain": [
       "SeqRecord(seq=Seq('ATGTCCGAATATCAGCCAAGTTTATTTGCTTTAAATCCAATGGGTTTCTCACCA...TGA', SingleLetterAlphabet()), id='YEL009C', name='YEL009C', description='YEL009C cdna chromosome:R64-1-1:V:138918:139763:-1 gene:YEL009C gene_biotype:protein_coding transcript_biotype:protein_coding gene_symbol:GCN4 description:bZIP transcriptional activator of amino acid biosynthetic genes;  activator responds to amino acid starvation; expression is tightly regulated at both the transcriptional and translational levels [Source:SGD;Acc:S000000735]', dbxrefs=[])"
      ]
     },
     "execution_count": 8,
     "metadata": {},
     "output_type": "execute_result"
    }
   ],
   "source": [
    "bzips = list(SeqIO.parse('data/bzips.fa', format='fasta'))\n",
    "bzips[0]"
   ]
  },
  {
   "cell_type": "code",
   "execution_count": 9,
   "metadata": {},
   "outputs": [
    {
     "name": "stdout",
     "output_type": "stream",
     "text": [
      "[('ACCGT', 'A-CG-', 3.0, 0, 5), ('ACCGT', 'AC-G-', 3.0, 0, 5)] \n",
      "\n",
      "ACCGT\n",
      "| || \n",
      "A-CG-\n",
      "  Score=3\n",
      "\n"
     ]
    }
   ],
   "source": [
    "alignments = pairwise2.align.globalxx(\"ACCGT\", \"ACG\")\n",
    "print(alignments, '\\n')\n",
    "print(pairwise2.format_alignment(*alignments[0]))"
   ]
  },
  {
   "cell_type": "markdown",
   "metadata": {},
   "source": [
    "##### Assignment 3:\n",
    "\n",
    "For each pair of sequences in a file, calculate:\n",
    "- global and local alignment\n",
    "- match: +1, mismatch: -1 substitution matrix\n",
    "- average score within files and between files"
   ]
  },
  {
   "cell_type": "code",
   "execution_count": 10,
   "metadata": {},
   "outputs": [
    {
     "data": {
      "text/plain": [
       "[('ACCGT', 'A-CG-', 1.0, 0, 5), ('ACCGT', 'AC-G-', 1.0, 0, 5)]"
      ]
     },
     "execution_count": 10,
     "metadata": {},
     "output_type": "execute_result"
    }
   ],
   "source": [
    "pairwise2.align.globalms(\"ACCGT\", \"ACG\", 1, -1, -1, -0.5)\n",
    "# this could've been done more explicitly using align with callback parameters:\n",
    "# match = pairwise2.identity_match(match=1, mismatch=-1)\n",
    "# gap_penalty = pairwise2.affine_penalty(open=-1, extend=-0.5)"
   ]
  },
  {
   "cell_type": "code",
   "execution_count": 11,
   "metadata": {},
   "outputs": [],
   "source": [
    "def _alignment_score(\n",
    "        collection1, \n",
    "        collection2, \n",
    "        strategy, \n",
    "        strategy_args=[1, -1, -1, -0.5], \n",
    "        strategy_kwargs={'score_only': True}\n",
    "):\n",
    "    n = len(collection1)\n",
    "    m = len(collection2)\n",
    "    scores = np.zeros(n*m)\n",
    "    for i, seq1 in tqdm(enumerate(collection1), total=n):\n",
    "        for j, seq2 in enumerate(collection2):\n",
    "            scores[i*n + j] = strategy(seq1, seq2, *strategy_args, **strategy_kwargs)\n",
    "    return np.mean(scores)\n",
    "\n",
    "def mean_global_alignment_score(collection1, collection2):\n",
    "    return _alignment_score(collection1, collection2, strategy=pairwise2.align.globalms)\n",
    "\n",
    "def mean_local_alignment_score(collection1, collection2):\n",
    "    return _alignment_score(collection1, collection2, strategy=pairwise2.align.localms)"
   ]
  },
  {
   "cell_type": "markdown",
   "metadata": {},
   "source": [
    "Global alignment scores:"
   ]
  },
  {
   "cell_type": "code",
   "execution_count": 11,
   "metadata": {},
   "outputs": [
    {
     "name": "stderr",
     "output_type": "stream",
     "text": [
      "100%|████████████████████████████████████████████████████████████████████████████████████| 8/8 [00:01<00:00,  4.49it/s]\n"
     ]
    },
    {
     "data": {
      "text/plain": [
       "345.328125"
      ]
     },
     "execution_count": 11,
     "metadata": {},
     "output_type": "execute_result"
    }
   ],
   "source": [
    "mean_global_alignment_score(seqs, seqs)"
   ]
  },
  {
   "cell_type": "code",
   "execution_count": 12,
   "metadata": {},
   "outputs": [
    {
     "name": "stderr",
     "output_type": "stream",
     "text": [
      "100%|██████████████████████████████████████████████████████████████████████████████████| 13/13 [00:05<00:00,  2.34it/s]\n"
     ]
    },
    {
     "data": {
      "text/plain": [
       "217.1656804733728"
      ]
     },
     "execution_count": 12,
     "metadata": {},
     "output_type": "execute_result"
    }
   ],
   "source": [
    "mean_global_alignment_score(bzips, bzips)"
   ]
  },
  {
   "cell_type": "code",
   "execution_count": 13,
   "metadata": {},
   "outputs": [
    {
     "name": "stderr",
     "output_type": "stream",
     "text": [
      "100%|████████████████████████████████████████████████████████████████████████████████████| 8/8 [00:03<00:00,  2.54it/s]\n"
     ]
    },
    {
     "data": {
      "text/plain": [
       "81.875"
      ]
     },
     "execution_count": 13,
     "metadata": {},
     "output_type": "execute_result"
    }
   ],
   "source": [
    "mean_global_alignment_score(seqs, bzips)"
   ]
  },
  {
   "cell_type": "markdown",
   "metadata": {},
   "source": [
    "Local alignment scores:"
   ]
  },
  {
   "cell_type": "code",
   "execution_count": 14,
   "metadata": {},
   "outputs": [
    {
     "name": "stderr",
     "output_type": "stream",
     "text": [
      "100%|████████████████████████████████████████████████████████████████████████████████████| 8/8 [00:25<00:00,  3.05s/it]\n"
     ]
    },
    {
     "data": {
      "text/plain": [
       "345.421875"
      ]
     },
     "execution_count": 14,
     "metadata": {},
     "output_type": "execute_result"
    }
   ],
   "source": [
    "mean_local_alignment_score(seqs, seqs)"
   ]
  },
  {
   "cell_type": "code",
   "execution_count": 15,
   "metadata": {},
   "outputs": [
    {
     "name": "stderr",
     "output_type": "stream",
     "text": [
      "100%|██████████████████████████████████████████████████████████████████████████████████| 13/13 [01:06<00:00,  5.74s/it]\n"
     ]
    },
    {
     "data": {
      "text/plain": [
       "227.63313609467457"
      ]
     },
     "execution_count": 15,
     "metadata": {},
     "output_type": "execute_result"
    }
   ],
   "source": [
    "mean_local_alignment_score(bzips, bzips)"
   ]
  },
  {
   "cell_type": "code",
   "execution_count": 16,
   "metadata": {},
   "outputs": [
    {
     "name": "stderr",
     "output_type": "stream",
     "text": [
      "100%|████████████████████████████████████████████████████████████████████████████████████| 8/8 [00:37<00:00,  4.62s/it]\n"
     ]
    },
    {
     "data": {
      "text/plain": [
       "92.11057692307692"
      ]
     },
     "execution_count": 16,
     "metadata": {},
     "output_type": "execute_result"
    }
   ],
   "source": [
    "mean_local_alignment_score(seqs, bzips)"
   ]
  },
  {
   "cell_type": "markdown",
   "metadata": {},
   "source": [
    "##### Assignment 4\n",
    "\n",
    "Translating DNA sequences into protein sequences and using BLOSUM substitution matrix to calculate their alignments."
   ]
  },
  {
   "cell_type": "code",
   "execution_count": 12,
   "metadata": {},
   "outputs": [],
   "source": [
    "from Bio.SubsMat.MatrixInfo import blosum30"
   ]
  },
  {
   "cell_type": "code",
   "execution_count": 13,
   "metadata": {},
   "outputs": [],
   "source": [
    "seq_proteins = [seq.translate() for seq in seqs]\n",
    "bzips_proteins = [seq.translate() for seq in bzips]"
   ]
  },
  {
   "cell_type": "code",
   "execution_count": 14,
   "metadata": {},
   "outputs": [
    {
     "data": {
      "text/plain": [
       "[('MSGGKGGKAGSAAKASQSRSAKAGLTFPVGRVHRLLRRGNYAQRIGSGAPVYLTAVLEYLAAEILELAGNAARDNKKTRIIPRHLQLAIRNDDELNKLLGNVTIAQGGVLPNIHQNLLPKKSAKAT-KASQEL',\n",
       "  'MSGGKGGKAGSAAKASQSRSAKAGLTFPVGRVHRLLRRGNYAQRIGSGAPVYLTAVLEYLAAEILELAGNAARDNKKTRIIPRHLQLAIRNDDELNKLLGNVTIAQGGVLPNIHQNLLPKKSAK-TAKASQEL',\n",
       "  812.0,\n",
       "  0,\n",
       "  133)]"
      ]
     },
     "execution_count": 14,
     "metadata": {},
     "output_type": "execute_result"
    }
   ],
   "source": [
    "pairwise2.align.globalds(seq_proteins[0].seq[:-1], seq_proteins[1].seq[:-1], blosum30, -1, -0.5)"
   ]
  },
  {
   "cell_type": "code",
   "execution_count": 15,
   "metadata": {},
   "outputs": [],
   "source": [
    "def mean_proteine_global_alignment_score(collection1, collection2):\n",
    "    def _preproc_seq_strategy(s1, s2, *args, **kwargs):\n",
    "        return pairwise2.align.globalds(s1.seq[:-1], s2.seq[:-1], *args, **kwargs)\n",
    "    \n",
    "    return _alignment_score(\n",
    "        collection1,\n",
    "        collection2,\n",
    "        strategy=_preproc_seq_strategy,\n",
    "        strategy_args=[blosum30, -1, -0.5]\n",
    "    )\n",
    "\n",
    "def mean_proteine_local_alignment_score(collection1, collection2):\n",
    "    def _preproc_seq_strategy(s1, s2, *args, **kwargs):\n",
    "        return pairwise2.align.localds(s1.seq[:-1], s2.seq[:-1], *args, **kwargs)\n",
    "    \n",
    "    return _alignment_score(\n",
    "        collection1,\n",
    "        collection2,\n",
    "        strategy=_preproc_seq_strategy,\n",
    "        strategy_args=[blosum30, -1, -0.5]\n",
    "    )"
   ]
  },
  {
   "cell_type": "markdown",
   "metadata": {},
   "source": [
    "Proteine, global:"
   ]
  },
  {
   "cell_type": "code",
   "execution_count": 21,
   "metadata": {},
   "outputs": [
    {
     "name": "stderr",
     "output_type": "stream",
     "text": [
      "100%|████████████████████████████████████████████████████████████████████████████████████| 8/8 [00:00<00:00,  9.23it/s]\n"
     ]
    },
    {
     "data": {
      "text/plain": [
       "380.640625"
      ]
     },
     "execution_count": 21,
     "metadata": {},
     "output_type": "execute_result"
    }
   ],
   "source": [
    "mean_proteine_global_alignment_score(seq_proteins, seq_proteins)"
   ]
  },
  {
   "cell_type": "code",
   "execution_count": 22,
   "metadata": {},
   "outputs": [
    {
     "name": "stderr",
     "output_type": "stream",
     "text": [
      "100%|██████████████████████████████████████████████████████████████████████████████████| 13/13 [00:15<00:00,  1.08s/it]\n"
     ]
    },
    {
     "data": {
      "text/plain": [
       "822.1715976331361"
      ]
     },
     "execution_count": 22,
     "metadata": {},
     "output_type": "execute_result"
    }
   ],
   "source": [
    "mean_proteine_global_alignment_score(bzips_proteins, bzips_proteins)"
   ]
  },
  {
   "cell_type": "code",
   "execution_count": 23,
   "metadata": {},
   "outputs": [
    {
     "name": "stderr",
     "output_type": "stream",
     "text": [
      "100%|████████████████████████████████████████████████████████████████████████████████████| 8/8 [00:03<00:00,  2.37it/s]\n"
     ]
    },
    {
     "data": {
      "text/plain": [
       "192.89903846153845"
      ]
     },
     "execution_count": 23,
     "metadata": {},
     "output_type": "execute_result"
    }
   ],
   "source": [
    "mean_proteine_global_alignment_score(seq_proteins, bzips_proteins)"
   ]
  },
  {
   "cell_type": "markdown",
   "metadata": {},
   "source": [
    "Proteine, local:"
   ]
  },
  {
   "cell_type": "code",
   "execution_count": 24,
   "metadata": {},
   "outputs": [
    {
     "name": "stderr",
     "output_type": "stream",
     "text": [
      "100%|████████████████████████████████████████████████████████████████████████████████████| 8/8 [00:01<00:00,  5.11it/s]\n"
     ]
    },
    {
     "data": {
      "text/plain": [
       "382.890625"
      ]
     },
     "execution_count": 24,
     "metadata": {},
     "output_type": "execute_result"
    }
   ],
   "source": [
    "mean_proteine_local_alignment_score(seq_proteins, seq_proteins)"
   ]
  },
  {
   "cell_type": "code",
   "execution_count": 25,
   "metadata": {},
   "outputs": [
    {
     "name": "stderr",
     "output_type": "stream",
     "text": [
      "100%|██████████████████████████████████████████████████████████████████████████████████| 13/13 [00:33<00:00,  2.30s/it]\n"
     ]
    },
    {
     "data": {
      "text/plain": [
       "826.7100591715977"
      ]
     },
     "execution_count": 25,
     "metadata": {},
     "output_type": "execute_result"
    }
   ],
   "source": [
    "mean_proteine_local_alignment_score(bzips_proteins, bzips_proteins)"
   ]
  },
  {
   "cell_type": "code",
   "execution_count": 26,
   "metadata": {},
   "outputs": [
    {
     "name": "stderr",
     "output_type": "stream",
     "text": [
      "100%|████████████████████████████████████████████████████████████████████████████████████| 8/8 [00:06<00:00,  1.28it/s]\n"
     ]
    },
    {
     "data": {
      "text/plain": [
       "204.5528846153846"
      ]
     },
     "execution_count": 26,
     "metadata": {},
     "output_type": "execute_result"
    }
   ],
   "source": [
    "mean_proteine_local_alignment_score(seq_proteins, bzips_proteins)"
   ]
  },
  {
   "cell_type": "markdown",
   "metadata": {},
   "source": [
    "## Home assignment"
   ]
  },
  {
   "cell_type": "markdown",
   "metadata": {},
   "source": [
    "Implementation:"
   ]
  },
  {
   "cell_type": "code",
   "execution_count": 18,
   "metadata": {},
   "outputs": [],
   "source": [
    "# %%writefile \"assignment2.py\"\n",
    "\"\"\"\n",
    "Home assignment 19-03-2019.\n",
    "Krzysztof Kowalczyk kk385830\n",
    "\"\"\"\n",
    "import Bio\n",
    "from Bio.Seq import Seq\n",
    "from Bio.pairwise2 import align\n",
    "from Bio.SubsMat.MatrixInfo import blosum30\n",
    "\n",
    "import math\n",
    "from itertools import product\n",
    "from typing import Iterable, Callable, List, NamedTuple\n",
    "from collections import defaultdict\n",
    "\n",
    "\n",
    "class Alignment(NamedTuple):\n",
    "    align1: str\n",
    "    align2: str\n",
    "    score: float\n",
    "    begin: int\n",
    "    end: int\n",
    "\n",
    "\n",
    "def _translated_offsets(seq: Bio.Seq.Seq, max_range=3) -> Iterable[Bio.Seq.Seq]:\n",
    "    for offset in range(max_range):\n",
    "        seq_end = 3 * ((len(seq)-offset)//3)\n",
    "        yield seq[offset:offset+seq_end].translate()\n",
    "\n",
    "def default_align_strategy(seq1, seq2) -> Alignment:\n",
    "    return Alignment(*align.localxx(seq1, seq2)[0])\n",
    "\n",
    "def blosum_align_strategy(seq1, seq2) -> Alignment:\n",
    "    blosum_extended = defaultdict(lambda: -math.inf)\n",
    "    blosum_extended.update(blosum30)\n",
    "    return Alignment(*align.localds(seq1, seq2, blosum_extended, -1, -0.5)[0])\n",
    "\n",
    "\n",
    "def optimal_alignment(\n",
    "        dna1: Bio.Seq.Seq, \n",
    "        dna2: Bio.Seq.Seq, \n",
    "        align_strategy: Callable[[Bio.Seq.Seq, Bio.Seq.Seq], Alignment]=default_align_strategy\n",
    ") -> Alignment:\n",
    "    \"\"\"\n",
    "    Calculates optimal alignment of 2 translated sequences, checking all 9 possible offsets in\n",
    "    the translated DNA with the supplied alignment strategy.\n",
    "    \"\"\"\n",
    "    translated_pairs = product(_translated_offsets(dna1), _translated_offsets(dna2))\n",
    "    return max(\n",
    "        (align_strategy(seq1, seq2) for seq1, seq2 in translated_pairs), \n",
    "        key = lambda alignment: alignment.score\n",
    "    )"
   ]
  },
  {
   "cell_type": "markdown",
   "metadata": {},
   "source": [
    "Usage demonstration:"
   ]
  },
  {
   "cell_type": "code",
   "execution_count": 20,
   "metadata": {},
   "outputs": [
    {
     "name": "stdout",
     "output_type": "stream",
     "text": [
      "ID: <unknown id>\n",
      "Name: <unknown name>\n",
      "Description: <unknown description>\n",
      "Number of features: 0\n",
      "Seq('MSGGKGGKAGSAAKASQSRSAKAGLTFPVGRVHRLLRRGNYAQRIGSGAPVYLT...EL*', HasStopCodon(ExtendedIUPACProtein(), '*'))\n",
      "|||||||||||||||||||||||||||||||||||||||||||||||||||||||||||||||||||||||||||||||||||||||||||||||||||||||||||||||||||||||||||||||||||||||||||||||||||||||||||||||||||||||||||||||||||||||||||||||||||||||||||||\n",
      "ID: <unknown id>\n",
      "Name: <unknown name>\n",
      "Description: <unknown description>\n",
      "Number of features: 0\n",
      "Seq('MSGGKGGKAGSAAKASQSRSAKAGLTFPVGRVHRLLRRGNYAQRIGSGAPVYLT...EL*', HasStopCodon(ExtendedIUPACProtein(), '*'))\n",
      "  Score=205\n",
      "\n",
      "ID: <unknown id>\n",
      "Name: <unknown name>\n",
      "Description: <unknown description>\n",
      "Number of features: 0\n",
      "Seq('VRW*-RW*-SWFSC*-SFSI*-IC*-GWFDIPSR*-SAQIAKKR*-LRPKNWFWCSSLL-DC...---RII', ---Has--Stop---Codon(-----Extended-------IU-PACProtein(), '*'))\n",
      "                                                                                                    |||  ||  |||||  ||||  ||  .||.|||.  ||||||||  |||.||||||| | .|      |..      |    |      |          |              |  ||||\n",
      "ID: <unknown id>\n",
      "Name: <unknown name>\n",
      "Description: <unknown description>\n",
      "Number of features: 0\n",
      "Seq('VRW-*RW-*SWFSC-*SFSI-*IC-*SWFNIPSW-*SAQIAKKR-*LRPENWFWCSS-LSNC---...RTV---', H--asS---topC-----odon(E-------xtendedI-UPACProtein(), '*'))\n",
      "  Score=442\n",
      "\n"
     ]
    }
   ],
   "source": [
    "dna1, dna2 = seqs[0], seqs[1]\n",
    "\n",
    "al = optimal_alignment(dna1, dna2)\n",
    "print(pairwise2.format_alignment(*al))\n",
    "\n",
    "al = optimal_alignment(dna1, dna2, blosum_align_strategy)\n",
    "print(pairwise2.format_alignment(*al))"
   ]
  }
 ],
 "metadata": {
  "kernelspec": {
   "display_name": "Python 3",
   "language": "python",
   "name": "python3"
  },
  "language_info": {
   "codemirror_mode": {
    "name": "ipython",
    "version": 3
   },
   "file_extension": ".py",
   "mimetype": "text/x-python",
   "name": "python",
   "nbconvert_exporter": "python",
   "pygments_lexer": "ipython3",
   "version": "3.7.2"
  }
 },
 "nbformat": 4,
 "nbformat_minor": 2
}
