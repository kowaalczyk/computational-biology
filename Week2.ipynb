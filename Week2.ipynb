{
 "cells": [
  {
   "cell_type": "code",
   "execution_count": 1,
   "metadata": {},
   "outputs": [],
   "source": [
    "from Bio import SubsMat\n",
    "import numpy as np"
   ]
  },
  {
   "cell_type": "code",
   "execution_count": 12,
   "metadata": {},
   "outputs": [],
   "source": [
    "from Bio.SubsMat import *\n",
    "from Bio.Seq import *"
   ]
  },
  {
   "cell_type": "code",
   "execution_count": 94,
   "metadata": {},
   "outputs": [
    {
     "name": "stdout",
     "output_type": "stream",
     "text": [
      "A   4\n",
      "B   0   5\n",
      "C  -3  -2  17\n",
      "D   0   5  -3   9\n",
      "E   0   0   1   1   6\n",
      "F  -2  -3  -3  -5  -4  10\n",
      "G   0   0  -4  -1  -2  -3   8\n",
      "H  -2  -2  -5  -2   0  -3  -3  14\n",
      "I   0  -2  -2  -4  -3   0  -1  -2   6\n",
      "K   0   0  -3   0   2  -1  -1  -2  -2   4\n",
      "L  -1  -1   0  -1  -1   2  -2  -1   2  -2   4\n",
      "M   1  -2  -2  -3  -1  -2  -2   2   1   2   2   6\n",
      "N   0   4  -1   1  -1  -1   0  -1   0   0  -2   0   8\n",
      "P  -1  -2  -3  -1   1  -4  -1   1  -3   1  -3  -4  -3  11\n",
      "Q   1  -1  -2  -1   2  -3  -2   0  -2   0  -2  -1  -1   0   8\n",
      "R  -1  -2  -2  -1  -1  -1  -2  -1  -3   1  -2   0  -2  -1   3   8\n",
      "S   1   0  -2   0   0  -1   0  -1  -1   0  -2  -2   0  -1  -1  -1   4\n",
      "T   1   0  -2  -1  -2  -2  -2  -2   0  -1   0   0   1   0   0  -3   2   5\n",
      "V   1  -2  -2  -2  -3   1  -3  -3   4  -2   1   0  -2  -4  -3  -1  -1   1   5\n",
      "W  -5  -5  -2  -4  -1   1   1  -5  -3  -2  -2  -3  -7  -3  -1   0  -3  -5  -3  20\n",
      "X   0  -1  -2  -1  -1  -1  -1  -1   0   0   0   0   0  -1   0  -1   0   0   0  -2  -1\n",
      "Y  -4  -3  -6  -1  -2   3  -3   0  -1  -1   3  -1  -4  -2  -1   0  -2  -1   1   5  -1   9\n",
      "Z   0   0   0   0   5  -4  -2   0  -3   1  -1  -1  -1   0   4   0  -1  -1  -3  -1   0  -2   4\n",
      "   A   B   C   D   E   F   G   H   I   K   L   M   N   P   Q   R   S   T   V   W   X   Y   Z\n"
     ]
    }
   ],
   "source": [
    "log_odds_mat = SubsMat.LogOddsMatrix(MatrixInfo.blosum30)\n",
    "log_odds_mat.print_mat()"
   ]
  }
 ],
 "metadata": {
  "kernelspec": {
   "display_name": "Python 3",
   "language": "python",
   "name": "python3"
  },
  "language_info": {
   "codemirror_mode": {
    "name": "ipython",
    "version": 3
   },
   "file_extension": ".py",
   "mimetype": "text/x-python",
   "name": "python",
   "nbconvert_exporter": "python",
   "pygments_lexer": "ipython3",
   "version": "3.7.2"
  }
 },
 "nbformat": 4,
 "nbformat_minor": 2
}
