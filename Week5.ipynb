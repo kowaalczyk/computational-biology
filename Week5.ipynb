{
 "cells": [
  {
   "cell_type": "markdown",
   "metadata": {},
   "source": [
    "# Week 5\n",
    "\n",
    "Hidden Markov Models\n",
    "\n",
    "Krzysztof Kowalczyk (kk385830)"
   ]
  },
  {
   "cell_type": "code",
   "execution_count": 1,
   "metadata": {},
   "outputs": [],
   "source": [
    "import gzip\n",
    "import requests\n",
    "import shutil"
   ]
  },
  {
   "cell_type": "code",
   "execution_count": 2,
   "metadata": {},
   "outputs": [],
   "source": [
    "def download_gz(url, target_file):\n",
    "    r = requests.get(url, stream=True)\n",
    "    if r.status_code == 200:\n",
    "        with open(target_file, 'wb') as f:\n",
    "            r.raw.decode_content = True  # just in case transport encoding was applied\n",
    "            gzip_file = gzip.GzipFile(fileobj=r.raw)\n",
    "            shutil.copyfileobj(gzip_file, f)"
   ]
  },
  {
   "cell_type": "code",
   "execution_count": 3,
   "metadata": {},
   "outputs": [],
   "source": [
    "download_gz('http://regulomics.mimuw.edu.pl/wp/wp-content/uploads/2018/04/cpg.fa_.gz', 'data/cpg.fa')\n",
    "download_gz('http://regulomics.mimuw.edu.pl/wp/wp-content/uploads/2018/04/cpg_test.fa_.gz', 'data/cpg_test.fa')"
   ]
  },
  {
   "cell_type": "markdown",
   "metadata": {},
   "source": [
    "## Reading data"
   ]
  },
  {
   "cell_type": "code",
   "execution_count": 4,
   "metadata": {},
   "outputs": [],
   "source": [
    "from Bio import SeqIO\n",
    "from dataclasses import dataclass\n",
    "import numpy as np\n",
    "from sklearn.preprocessing import LabelEncoder"
   ]
  },
  {
   "cell_type": "code",
   "execution_count": 5,
   "metadata": {},
   "outputs": [
    {
     "name": "stdout",
     "output_type": "stream",
     "text": [
      "training sequences: 1, test sequences: 30\n"
     ]
    }
   ],
   "source": [
    "@dataclass\n",
    "class ModelSeq(object):\n",
    "    label: str\n",
    "    seq: str\n",
    "    \n",
    "    def as_array(self, k_nucleotides: int=1) -> np.array:\n",
    "        return np.array([\n",
    "            self.seq[i:i+k_nucleotides] \n",
    "            for i in range(0, len(self.seq) // k_nucleotides, k_nucleotides)\n",
    "        ])\n",
    "\n",
    "def load_seq(path):\n",
    "    return [\n",
    "        ModelSeq(seq_data.description, str(seq_data.seq)) \n",
    "        for seq_data in SeqIO.parse(path, format='fasta')\n",
    "    ]\n",
    "\n",
    "train_seqs = load_seq('data/cpg.fa')\n",
    "test_seqs =  load_seq('data/cpg_test.fa')\n",
    "print(f\"training sequences: {len(train_seqs)}, test sequences: {len(test_seqs)}\")"
   ]
  },
  {
   "cell_type": "code",
   "execution_count": 6,
   "metadata": {},
   "outputs": [
    {
     "name": "stdout",
     "output_type": "stream",
     "text": [
      "['AA' 'AC' 'AG' 'AT' 'CA' 'CC' 'CG' 'CT' 'GA' 'GC' 'GG' 'GT' 'TA' 'TC'\n",
      " 'TG' 'TT']\n"
     ]
    }
   ],
   "source": [
    "encoder = LabelEncoder()\n",
    "train_arr = train_seqs[0].as_array(k_nucleotides=2)\n",
    "train = encoder.fit_transform(train_arr).reshape((-1,1))\n",
    "labels = encoder.classes_\n",
    "print(labels)\n",
    "assert(len(labels) == 16)  # makes sure all classes are present"
   ]
  },
  {
   "cell_type": "markdown",
   "metadata": {},
   "source": [
    "## Training the model"
   ]
  },
  {
   "cell_type": "code",
   "execution_count": 7,
   "metadata": {},
   "outputs": [],
   "source": [
    "from hmmlearn import hmm"
   ]
  },
  {
   "cell_type": "code",
   "execution_count": 8,
   "metadata": {},
   "outputs": [],
   "source": [
    "train_samples = int(len(train) * 0.75)\n",
    "train_ = train[:train_samples]\n",
    "eval_ = train[train_samples:]\n",
    "n_components = 2"
   ]
  },
  {
   "cell_type": "code",
   "execution_count": 9,
   "metadata": {},
   "outputs": [
    {
     "name": "stdout",
     "output_type": "stream",
     "text": [
      "Wall time: 23.9 s\n"
     ]
    }
   ],
   "source": [
    "%%time\n",
    "model = hmm.GaussianHMM(n_components=n_components)\n",
    "model.fit(train_)"
   ]
  },
  {
   "cell_type": "markdown",
   "metadata": {},
   "source": [
    "## Interpret HMM states\n",
    "\n",
    "We need to know which state corresponds to CpG island.\n",
    "To do this, we will check relationship between class probabilities and number of CGs in the various parts of evaluation set."
   ]
  },
  {
   "cell_type": "code",
   "execution_count": 10,
   "metadata": {},
   "outputs": [],
   "source": [
    "import pandas as pd\n",
    "from tqdm import tqdm\n",
    "import matplotlib.pyplot as plt"
   ]
  },
  {
   "cell_type": "code",
   "execution_count": 11,
   "metadata": {},
   "outputs": [],
   "source": [
    "CG_idxs = eval_[:,0] == np.argmax(labels == 'CG')\n",
    "rows = []\n",
    "for i, eval_batch_ in enumerate([eval_[CG_idxs,:], eval_[~CG_idxs,:]]):\n",
    "    CG_count = np.sum(eval_batch_ == np.argmax(labels == 'CG'))\n",
    "    states = model.predict(eval_batch_)\n",
    "    class_count = {\n",
    "        f\"Class_{i}_count\": np.sum(states == i) / len(states)\n",
    "        for i in range(n_components)\n",
    "    }\n",
    "    rows.append(pd.DataFrame({'CG_count': CG_count, **class_count}, index=[i]))\n",
    "eval_results = pd.concat(rows, axis='index')"
   ]
  },
  {
   "cell_type": "code",
   "execution_count": 12,
   "metadata": {},
   "outputs": [
    {
     "data": {
      "image/png": "[encoded data removed]",
      "text/plain": [
       "<Figure size 432x288 with 1 Axes>"
      ]
     },
     "metadata": {
      "needs_background": "light"
     },
     "output_type": "display_data"
    }
   ],
   "source": [
    "eval_results.corr().plot(x='CG_count')\n",
    "plt.show()"
   ]
  },
  {
   "cell_type": "code",
   "execution_count": 13,
   "metadata": {},
   "outputs": [
    {
     "name": "stdout",
     "output_type": "stream",
     "text": [
      "Based on evaluation set, we assume class 1 corresponds to CpG island.\n"
     ]
    }
   ],
   "source": [
    "CG_class = eval_results.corr()['CG_count'].iloc[1:].values.argmax()\n",
    "print(f\"Based on evaluation set, we assume class {CG_class} corresponds to CpG island.\")"
   ]
  },
  {
   "cell_type": "markdown",
   "metadata": {},
   "source": [
    "## Generating predictions\n",
    "\n",
    "(home assignment)"
   ]
  },
  {
   "cell_type": "code",
   "execution_count": 14,
   "metadata": {},
   "outputs": [
    {
     "name": "stderr",
     "output_type": "stream",
     "text": [
      "30it [00:00, 291.24it/s]\n"
     ]
    },
    {
     "name": "stdout",
     "output_type": "stream",
     "text": [
      "                      seq_name  is_cpg_island\n",
      "0    Seq 0 testing cpg islands          False\n",
      "1    Seq 1 testing cpg islands           True\n",
      "2    Seq 2 testing cpg islands           True\n",
      "3    Seq 3 testing cpg islands           True\n",
      "4    Seq 4 testing cpg islands          False\n",
      "5    Seq 5 testing cpg islands           True\n",
      "6    Seq 6 testing cpg islands           True\n",
      "7    Seq 7 testing cpg islands          False\n",
      "8    Seq 8 testing cpg islands           True\n",
      "9    Seq 9 testing cpg islands          False\n",
      "10  Seq 10 testing cpg islands           True\n",
      "11  Seq 11 testing cpg islands           True\n",
      "12  Seq 12 testing cpg islands           True\n",
      "13  Seq 13 testing cpg islands          False\n",
      "14  Seq 14 testing cpg islands          False\n",
      "15  Seq 15 testing cpg islands          False\n",
      "16  Seq 16 testing cpg islands          False\n",
      "17  Seq 17 testing cpg islands          False\n",
      "18  Seq 18 testing cpg islands          False\n",
      "19  Seq 19 testing cpg islands           True\n",
      "20  Seq 20 testing cpg islands          False\n",
      "21  Seq 21 testing cpg islands          False\n",
      "22  Seq 22 testing cpg islands           True\n",
      "23  Seq 23 testing cpg islands          False\n",
      "24  Seq 24 testing cpg islands           True\n",
      "25  Seq 25 testing cpg islands          False\n",
      "26  Seq 26 testing cpg islands          False\n",
      "27  Seq 27 testing cpg islands           True\n",
      "28  Seq 28 testing cpg islands          False\n",
      "29  Seq 29 testing cpg islands          False\n"
     ]
    }
   ],
   "source": [
    "rows = []\n",
    "for i, ts in tqdm(enumerate(test_seqs)):\n",
    "    test = encoder.transform(ts.as_array(k_nucleotides=2)).reshape((-1,1))\n",
    "    states = model.predict(test)\n",
    "    is_cpg = np.sum(states == CG_class) >= (len(states) / 2)\n",
    "    rows.append(pd.DataFrame({'seq_name': ts.label, 'is_cpg_island': is_cpg}, index=[i]))\n",
    "results = pd.concat(rows)\n",
    "results.to_csv('data/cpg_islands_kk385830.csv')\n",
    "print(results)"
   ]
  }
 ],
 "metadata": {
  "kernelspec": {
   "display_name": "Python 3",
   "language": "python",
   "name": "python3"
  },
  "language_info": {
   "codemirror_mode": {
    "name": "ipython",
    "version": 3
   },
   "file_extension": ".py",
   "mimetype": "text/x-python",
   "name": "python",
   "nbconvert_exporter": "python",
   "pygments_lexer": "ipython3",
   "version": "3.7.2"
  }
 },
 "nbformat": 4,
 "nbformat_minor": 2
}
